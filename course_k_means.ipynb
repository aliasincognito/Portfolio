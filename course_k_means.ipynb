{
 "cells": [
  {
   "cell_type": "markdown",
   "metadata": {},
   "source": [
    "This program perfroms clustering analysis of 80 Golf Courses, and attempts to cluster them using basic metrics (e.g., the sum of distances from tee to hole) and more advanced metric (e.g., difficulty of putting measured through the advanced metric \"Strokes Gained\")"
   ]
  },
  {
   "cell_type": "code",
   "execution_count": 14,
   "metadata": {},
   "outputs": [],
   "source": [
    "import numpy, pandas, scipy, sklearn \n",
    "from sklearn.preprocessing import StandardScaler as ss\n",
    "from sklearn.cluster import KMeans\n",
    "from sklearn.model_selection import train_test_split\n",
    "from sklearn.metrics import silhouette_samples, silhouette_score\n",
    "from sklearn.decomposition import PCA"
   ]
  },
  {
   "cell_type": "markdown",
   "metadata": {},
   "source": [
    "Let's load some data!"
   ]
  },
  {
   "cell_type": "code",
   "execution_count": 15,
   "metadata": {},
   "outputs": [],
   "source": [
    "df = pandas.read_csv(r'C:\\Users\\lomba\\Downloads\\dg_course_table - dg_course_table.csv')"
   ]
  },
  {
   "cell_type": "markdown",
   "metadata": {},
   "source": [
    "We'll take the lay of the land and see the table's column names and shape."
   ]
  },
  {
   "cell_type": "code",
   "execution_count": 21,
   "metadata": {},
   "outputs": [
    {
     "name": "stdout",
     "output_type": "stream",
     "text": [
      "Index(['course', 'par', 'yardage', 'yardage_4_5', 'yardage_3',\n",
      "       'adj_score_to_par', 'adj_par_3_score', 'adj_par_4_score',\n",
      "       'adj_par_5_score', 'adj_driving_distance', 'adj_sd_distance',\n",
      "       'adj_driving_accuracy', 'fw_width', 'miss_fw_pen_frac', 'putt_sg',\n",
      "       'arg_sg', 'app_sg', 'ott_sg', 'adj_gir', 'less_150_sg',\n",
      "       'greater_150_sg', 'arg_fairway_sg', 'arg_rough_sg', 'arg_bunker_sg',\n",
      "       'less_5_ft_sg', 'greater_5_less_15_sg', 'greater_15_sg'],\n",
      "      dtype='object')\n",
      "(80, 27)\n"
     ]
    }
   ],
   "source": [
    "print(df.columns)\n",
    "print(df.shape)\n",
    "cols = list(df.columns[1:])"
   ]
  },
  {
   "cell_type": "markdown",
   "metadata": {},
   "source": [
    "We won't need the name of the course, so let's drop it from our potential feature set. We won't use this variable subset of a dataframe in our eventual program, however. We just want to take a quick scan and confirm that all the data is processable by the clustering algorithm!"
   ]
  },
  {
   "cell_type": "code",
   "execution_count": 23,
   "metadata": {},
   "outputs": [
    {
     "name": "stdout",
     "output_type": "stream",
     "text": [
      "par                       int64\n",
      "yardage                   int64\n",
      "yardage_4_5               int64\n",
      "yardage_3                 int64\n",
      "adj_score_to_par        float64\n",
      "adj_par_3_score         float64\n",
      "adj_par_4_score         float64\n",
      "adj_par_5_score         float64\n",
      "adj_driving_distance    float64\n",
      "adj_sd_distance         float64\n",
      "adj_driving_accuracy    float64\n",
      "fw_width                float64\n",
      "miss_fw_pen_frac        float64\n",
      "putt_sg                 float64\n",
      "arg_sg                  float64\n",
      "app_sg                  float64\n",
      "ott_sg                  float64\n",
      "adj_gir                 float64\n",
      "less_150_sg             float64\n",
      "greater_150_sg          float64\n",
      "arg_fairway_sg          float64\n",
      "arg_rough_sg            float64\n",
      "arg_bunker_sg           float64\n",
      "less_5_ft_sg            float64\n",
      "greater_5_less_15_sg    float64\n",
      "greater_15_sg           float64\n",
      "dtype: object\n"
     ]
    },
    {
     "data": {
      "text/html": [
       "<div>\n",
       "<style scoped>\n",
       "    .dataframe tbody tr th:only-of-type {\n",
       "        vertical-align: middle;\n",
       "    }\n",
       "\n",
       "    .dataframe tbody tr th {\n",
       "        vertical-align: top;\n",
       "    }\n",
       "\n",
       "    .dataframe thead th {\n",
       "        text-align: right;\n",
       "    }\n",
       "</style>\n",
       "<table border=\"1\" class=\"dataframe\">\n",
       "  <thead>\n",
       "    <tr style=\"text-align: right;\">\n",
       "      <th></th>\n",
       "      <th>par</th>\n",
       "      <th>yardage</th>\n",
       "      <th>yardage_4_5</th>\n",
       "      <th>yardage_3</th>\n",
       "      <th>adj_score_to_par</th>\n",
       "      <th>adj_par_3_score</th>\n",
       "      <th>adj_par_4_score</th>\n",
       "      <th>adj_par_5_score</th>\n",
       "      <th>adj_driving_distance</th>\n",
       "      <th>adj_sd_distance</th>\n",
       "      <th>...</th>\n",
       "      <th>ott_sg</th>\n",
       "      <th>adj_gir</th>\n",
       "      <th>less_150_sg</th>\n",
       "      <th>greater_150_sg</th>\n",
       "      <th>arg_fairway_sg</th>\n",
       "      <th>arg_rough_sg</th>\n",
       "      <th>arg_bunker_sg</th>\n",
       "      <th>less_5_ft_sg</th>\n",
       "      <th>greater_5_less_15_sg</th>\n",
       "      <th>greater_15_sg</th>\n",
       "    </tr>\n",
       "  </thead>\n",
       "  <tbody>\n",
       "    <tr>\n",
       "      <th>0</th>\n",
       "      <td>71</td>\n",
       "      <td>7241</td>\n",
       "      <td>463</td>\n",
       "      <td>190</td>\n",
       "      <td>0.68</td>\n",
       "      <td>0.09</td>\n",
       "      <td>0.14</td>\n",
       "      <td>-0.41</td>\n",
       "      <td>285.4</td>\n",
       "      <td>19.9</td>\n",
       "      <td>...</td>\n",
       "      <td>-0.036</td>\n",
       "      <td>0.6030</td>\n",
       "      <td>-0.002</td>\n",
       "      <td>0.021</td>\n",
       "      <td>0.021</td>\n",
       "      <td>0.049</td>\n",
       "      <td>-0.063</td>\n",
       "      <td>-0.012</td>\n",
       "      <td>-0.035</td>\n",
       "      <td>-0.016</td>\n",
       "    </tr>\n",
       "    <tr>\n",
       "      <th>1</th>\n",
       "      <td>71</td>\n",
       "      <td>6947</td>\n",
       "      <td>444</td>\n",
       "      <td>183</td>\n",
       "      <td>-0.02</td>\n",
       "      <td>0.13</td>\n",
       "      <td>0.04</td>\n",
       "      <td>-0.34</td>\n",
       "      <td>274.6</td>\n",
       "      <td>19.5</td>\n",
       "      <td>...</td>\n",
       "      <td>-0.062</td>\n",
       "      <td>0.6215</td>\n",
       "      <td>0.008</td>\n",
       "      <td>-0.038</td>\n",
       "      <td>0.047</td>\n",
       "      <td>0.080</td>\n",
       "      <td>0.009</td>\n",
       "      <td>-0.001</td>\n",
       "      <td>-0.013</td>\n",
       "      <td>0.001</td>\n",
       "    </tr>\n",
       "  </tbody>\n",
       "</table>\n",
       "<p>2 rows × 26 columns</p>\n",
       "</div>"
      ],
      "text/plain": [
       "   par  yardage  yardage_4_5  yardage_3  adj_score_to_par  adj_par_3_score  \\\n",
       "0   71     7241          463        190              0.68             0.09   \n",
       "1   71     6947          444        183             -0.02             0.13   \n",
       "\n",
       "   adj_par_4_score  adj_par_5_score  adj_driving_distance  adj_sd_distance  \\\n",
       "0             0.14            -0.41                 285.4             19.9   \n",
       "1             0.04            -0.34                 274.6             19.5   \n",
       "\n",
       "   ...  ott_sg  adj_gir  less_150_sg  greater_150_sg  arg_fairway_sg  \\\n",
       "0  ...  -0.036   0.6030       -0.002           0.021           0.021   \n",
       "1  ...  -0.062   0.6215        0.008          -0.038           0.047   \n",
       "\n",
       "   arg_rough_sg  arg_bunker_sg  less_5_ft_sg  greater_5_less_15_sg  \\\n",
       "0         0.049         -0.063        -0.012                -0.035   \n",
       "1         0.080          0.009        -0.001                -0.013   \n",
       "\n",
       "   greater_15_sg  \n",
       "0         -0.016  \n",
       "1          0.001  \n",
       "\n",
       "[2 rows x 26 columns]"
      ]
     },
     "execution_count": 23,
     "metadata": {},
     "output_type": "execute_result"
    }
   ],
   "source": [
    "features = df.iloc[0:, 1:]\n",
    "print(features.dtypes)\n",
    "features.head(2)"
   ]
  },
  {
   "cell_type": "markdown",
   "metadata": {},
   "source": [
    "Alright! All floats and integers - we're good to go! We'll create a pair of for loops that scale all possible features, cycle through various groups of features and different numbers of clusters, and prints out the optimal feature set and k."
   ]
  },
  {
   "cell_type": "code",
   "execution_count": 13,
   "metadata": {},
   "outputs": [
    {
     "name": "stdout",
     "output_type": "stream",
     "text": [
      "For 2 clusters the average sillhouette coeffecient is 0.44216626841372014\n",
      "For 3 clusters the average sillhouette coeffecient is 0.4360581539023505\n",
      "For 4 clusters the average sillhouette coeffecient is 0.4706538873644788\n",
      "The optimal number of clusters is 4 with an average sillhouette coeffecient of 0.4706538873644788\n",
      "For 2 clusters the average sillhouette coeffecient is 0.4381572804548671\n",
      "For 3 clusters the average sillhouette coeffecient is 0.42828611352538404\n",
      "For 4 clusters the average sillhouette coeffecient is 0.42260661862390875\n",
      "The optimal number of clusters is 2 with an average sillhouette coeffecient of 0.4381572804548671\n",
      "For 2 clusters the average sillhouette coeffecient is 0.39753927088636376\n",
      "For 3 clusters the average sillhouette coeffecient is 0.39646616634498305\n",
      "For 4 clusters the average sillhouette coeffecient is 0.406004363176139\n",
      "The optimal number of clusters is 4 with an average sillhouette coeffecient of 0.406004363176139\n",
      "For 2 clusters the average sillhouette coeffecient is 0.3985428145151503\n",
      "For 3 clusters the average sillhouette coeffecient is 0.4060054365071477\n",
      "For 4 clusters the average sillhouette coeffecient is 0.434174098344967\n",
      "The optimal number of clusters is 4 with an average sillhouette coeffecient of 0.434174098344967\n",
      "For 2 clusters the average sillhouette coeffecient is 0.39145004508978143\n",
      "For 3 clusters the average sillhouette coeffecient is 0.4036283679819367\n",
      "For 4 clusters the average sillhouette coeffecient is 0.420168406007726\n",
      "The optimal number of clusters is 4 with an average sillhouette coeffecient of 0.420168406007726\n",
      "For 2 clusters the average sillhouette coeffecient is 0.39313724787866045\n",
      "For 3 clusters the average sillhouette coeffecient is 0.44302515154364014\n",
      "For 4 clusters the average sillhouette coeffecient is 0.4639054010407932\n",
      "The optimal number of clusters is 4 with an average sillhouette coeffecient of 0.4639054010407932\n",
      "For 2 clusters the average sillhouette coeffecient is 0.3901358824320627\n",
      "For 3 clusters the average sillhouette coeffecient is 0.41916102546053285\n",
      "For 4 clusters the average sillhouette coeffecient is 0.43024232859369754\n",
      "The optimal number of clusters is 4 with an average sillhouette coeffecient of 0.43024232859369754\n",
      "For 2 clusters the average sillhouette coeffecient is 0.3776099592919347\n",
      "For 3 clusters the average sillhouette coeffecient is 0.4150975065556265\n",
      "For 4 clusters the average sillhouette coeffecient is 0.4310360022333445\n",
      "The optimal number of clusters is 4 with an average sillhouette coeffecient of 0.4310360022333445\n",
      "For 2 clusters the average sillhouette coeffecient is 0.4158340288278281\n",
      "For 3 clusters the average sillhouette coeffecient is 0.4540664266890088\n",
      "For 4 clusters the average sillhouette coeffecient is 0.4540140646465104\n",
      "The optimal number of clusters is 3 with an average sillhouette coeffecient of 0.4540664266890088\n",
      "For 2 clusters the average sillhouette coeffecient is 0.40706476500767896\n",
      "For 3 clusters the average sillhouette coeffecient is 0.438270560856408\n",
      "For 4 clusters the average sillhouette coeffecient is 0.4036300694877989\n",
      "The optimal number of clusters is 3 with an average sillhouette coeffecient of 0.438270560856408\n",
      "For 2 clusters the average sillhouette coeffecient is 0.4693921188904799\n",
      "For 3 clusters the average sillhouette coeffecient is 0.515930178611742\n",
      "For 4 clusters the average sillhouette coeffecient is 0.5373716564393964\n",
      "The optimal number of clusters is 4 with an average sillhouette coeffecient of 0.5373716564393964\n",
      "For 2 clusters the average sillhouette coeffecient is 0.4218423096874301\n",
      "For 3 clusters the average sillhouette coeffecient is 0.43173518662079324\n",
      "For 4 clusters the average sillhouette coeffecient is 0.44510700543625903\n",
      "The optimal number of clusters is 4 with an average sillhouette coeffecient of 0.44510700543625903\n",
      "For 2 clusters the average sillhouette coeffecient is 0.40692355322380874\n",
      "For 3 clusters the average sillhouette coeffecient is 0.44967442541083624\n",
      "For 4 clusters the average sillhouette coeffecient is 0.47440096556452477\n",
      "The optimal number of clusters is 4 with an average sillhouette coeffecient of 0.47440096556452477\n",
      "For 2 clusters the average sillhouette coeffecient is 0.4060884452470829\n",
      "For 3 clusters the average sillhouette coeffecient is 0.41733982165971073\n",
      "For 4 clusters the average sillhouette coeffecient is 0.4378864064060809\n",
      "The optimal number of clusters is 4 with an average sillhouette coeffecient of 0.4378864064060809\n",
      "For 2 clusters the average sillhouette coeffecient is 0.36974409084101856\n",
      "For 3 clusters the average sillhouette coeffecient is 0.40618571286736865\n",
      "For 4 clusters the average sillhouette coeffecient is 0.4222233047765525\n",
      "The optimal number of clusters is 4 with an average sillhouette coeffecient of 0.4222233047765525\n",
      "For 2 clusters the average sillhouette coeffecient is 0.39344951504743847\n",
      "For 3 clusters the average sillhouette coeffecient is 0.450235940439225\n",
      "For 4 clusters the average sillhouette coeffecient is 0.44606417559651595\n",
      "The optimal number of clusters is 3 with an average sillhouette coeffecient of 0.450235940439225\n",
      "For 2 clusters the average sillhouette coeffecient is 0.39216377285891063\n",
      "For 3 clusters the average sillhouette coeffecient is 0.41078893408988454\n",
      "For 4 clusters the average sillhouette coeffecient is 0.419400685381741\n",
      "The optimal number of clusters is 4 with an average sillhouette coeffecient of 0.419400685381741\n",
      "For 2 clusters the average sillhouette coeffecient is 0.3955767668594356\n",
      "For 3 clusters the average sillhouette coeffecient is 0.39654841699592597\n",
      "For 4 clusters the average sillhouette coeffecient is 0.3927909905583187\n",
      "The optimal number of clusters is 3 with an average sillhouette coeffecient of 0.39654841699592597\n",
      "For 2 clusters the average sillhouette coeffecient is 0.40108787487639985\n",
      "For 3 clusters the average sillhouette coeffecient is 0.3877918803493574\n",
      "For 4 clusters the average sillhouette coeffecient is 0.40201497897844496\n",
      "The optimal number of clusters is 4 with an average sillhouette coeffecient of 0.40201497897844496\n",
      "For 2 clusters the average sillhouette coeffecient is 0.40511611897737076\n",
      "For 3 clusters the average sillhouette coeffecient is 0.4154004801428946\n",
      "For 4 clusters the average sillhouette coeffecient is 0.4029246514747976\n",
      "The optimal number of clusters is 3 with an average sillhouette coeffecient of 0.4154004801428946\n",
      "For 2 clusters the average sillhouette coeffecient is 0.39641766835855674\n",
      "For 3 clusters the average sillhouette coeffecient is 0.40195605708801185\n",
      "For 4 clusters the average sillhouette coeffecient is 0.4273314609609569\n",
      "The optimal number of clusters is 4 with an average sillhouette coeffecient of 0.4273314609609569\n",
      "For 2 clusters the average sillhouette coeffecient is 0.4694608466846283\n",
      "For 3 clusters the average sillhouette coeffecient is 0.5093068302251609\n",
      "For 4 clusters the average sillhouette coeffecient is 0.5263775485850752\n",
      "The optimal number of clusters is 4 with an average sillhouette coeffecient of 0.5263775485850752\n",
      "For 2 clusters the average sillhouette coeffecient is 0.4238572761063236\n",
      "For 3 clusters the average sillhouette coeffecient is 0.47997516748070196\n",
      "For 4 clusters the average sillhouette coeffecient is 0.4737768066076802\n",
      "The optimal number of clusters is 3 with an average sillhouette coeffecient of 0.47997516748070196\n",
      "For 2 clusters the average sillhouette coeffecient is 0.4143280158766284\n",
      "For 3 clusters the average sillhouette coeffecient is 0.4475119735017444\n",
      "For 4 clusters the average sillhouette coeffecient is 0.4527013095251274\n",
      "The optimal number of clusters is 4 with an average sillhouette coeffecient of 0.4527013095251274\n",
      "For 2 clusters the average sillhouette coeffecient is 0.4112677556672432\n",
      "For 3 clusters the average sillhouette coeffecient is 0.4640864946366035\n",
      "For 4 clusters the average sillhouette coeffecient is 0.43155420530316135\n",
      "The optimal number of clusters is 3 with an average sillhouette coeffecient of 0.4640864946366035\n",
      "\n",
      "\n",
      "The most effective slice of features was features 1 through 12. \n",
      "That slice, when broken down into 3 clusters, had an average sillhouette coeffecient of 0.5373716564393964\n"
     ]
    }
   ],
   "source": [
    "max_sil_vals = []\n",
    "feature_selection = []\n",
    "for i in range(2, len(df.columns)):\n",
    "    features = ss().fit_transform(df.iloc[:, [1, i]])\n",
    "    sil_vals = []\n",
    "    for i in range(2, 5):\n",
    "        km = KMeans(n_clusters=i).fit_predict(features)\n",
    "        silhouette_val = silhouette_samples(features, km)\n",
    "        silhouette_val = silhouette_val.mean()\n",
    "        sil_vals.append(silhouette_val)\n",
    "        max_sil_vals.append(silhouette_val)\n",
    "        print(f\"For {sil_vals.index(silhouette_val) + 2} clusters the average sillhouette coeffecient is {silhouette_val}\")\n",
    "    feature_selection.append(max(sil_vals))\n",
    "    print(f\"The optimal number of clusters is {sil_vals.index(max(sil_vals)) + 2} with an average sillhouette coeffecient of {max(sil_vals)}\")\n",
    "print(f'''\n",
    "\n",
    "The most effective slice of features was features 1 through {feature_selection.index(max(feature_selection)) + 2}. \n",
    "That slice, when broken down into {sil_vals.index(max(sil_vals)) + 2} clusters, had an average sillhouette coeffecient of {max(max_sil_vals)}''')"
   ]
  },
  {
   "cell_type": "markdown",
   "metadata": {},
   "source": [
    "And voila! We've got the best possible set of features and the optimal k! We could graph out the computer's process if we wanted to. Additionally, idf we had a little more computing power, we could go through the powerset of features and analyze it for optimal feature selection. However, that'd process would take my PC almost 15 years to complete!"
   ]
  }
 ],
 "metadata": {
  "kernelspec": {
   "display_name": "Python 3.11.0 64-bit",
   "language": "python",
   "name": "python3"
  },
  "language_info": {
   "codemirror_mode": {
    "name": "ipython",
    "version": 3
   },
   "file_extension": ".py",
   "mimetype": "text/x-python",
   "name": "python",
   "nbconvert_exporter": "python",
   "pygments_lexer": "ipython3",
   "version": "3.11.0"
  },
  "orig_nbformat": 4,
  "vscode": {
   "interpreter": {
    "hash": "7bf845f8b1d907bd74a53c8ab4ebecb941335a5f99d59714934777dca55b277b"
   }
  }
 },
 "nbformat": 4,
 "nbformat_minor": 2
}
