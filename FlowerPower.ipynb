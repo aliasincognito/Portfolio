{
 "cells": [
  {
   "cell_type": "markdown",
   "id": "731c4ebd",
   "metadata": {},
   "source": [
    "### OCI Data Science - Useful Tips\n",
    "<details>\n",
    "<summary><font size=\"2\">Check for Public Internet Access</font></summary>\n",
    "\n",
    "```python\n",
    "import requests\n",
    "response = requests.get(\"https://oracle.com\")\n",
    "assert response.status_code==200, \"Internet connection failed\"\n",
    "```\n",
    "</details>\n",
    "<details>\n",
    "<summary><font size=\"2\">Helpful Documentation </font></summary>\n",
    "<ul><li><a href=\"https://docs.cloud.oracle.com/en-us/iaas/data-science/using/data-science.htm\">Data Science Service Documentation</a></li>\n",
    "<li><a href=\"https://docs.cloud.oracle.com/iaas/tools/ads-sdk/latest/index.html\">ADS documentation</a></li>\n",
    "</ul>\n",
    "</details>\n",
    "<details>\n",
    "<summary><font size=\"2\">Typical Cell Imports and Settings for ADS</font></summary>\n",
    "\n",
    "```python\n",
    "%load_ext autoreload\n",
    "%autoreload 2\n",
    "%matplotlib inline\n",
    "\n",
    "import warnings\n",
    "warnings.filterwarnings('ignore')\n",
    "\n",
    "import logging\n",
    "logging.basicConfig(format='%(levelname)s:%(message)s', level=logging.ERROR)\n",
    "\n",
    "import ads\n",
    "from ads.dataset.factory import DatasetFactory\n",
    "from ads.automl.provider import OracleAutoMLProvider\n",
    "from ads.automl.driver import AutoML\n",
    "from ads.evaluations.evaluator import ADSEvaluator\n",
    "from ads.common.data import ADSData\n",
    "from ads.explanations.explainer import ADSExplainer\n",
    "from ads.explanations.mlx_global_explainer import MLXGlobalExplainer\n",
    "from ads.explanations.mlx_local_explainer import MLXLocalExplainer\n",
    "from ads.catalog.model import ModelCatalog\n",
    "from ads.common.model_artifact import ModelArtifact\n",
    "```\n",
    "</details>\n",
    "<details>\n",
    "<summary><font size=\"2\">Useful Environment Variables</font></summary>\n",
    "\n",
    "```python\n",
    "import os\n",
    "print(os.environ[\"NB_SESSION_COMPARTMENT_OCID\"])\n",
    "print(os.environ[\"PROJECT_OCID\"])\n",
    "print(os.environ[\"USER_OCID\"])\n",
    "print(os.environ[\"TENANCY_OCID\"])\n",
    "print(os.environ[\"NB_REGION\"])\n",
    "```\n",
    "</details>"
   ]
  },
  {
   "cell_type": "markdown",
   "id": "4d7b6097",
   "metadata": {},
   "source": [
    "# Flower Power! Simple Neural Network For Predicing Iris Species\n",
    "### The following code depicts an ANN developed by following along with Linkedin Learning courses. The parameters and data are identical. "
   ]
  },
  {
   "cell_type": "code",
   "execution_count": 1,
   "id": "dd41b2b5",
   "metadata": {},
   "outputs": [],
   "source": [
    "import pandas as pd\n",
    "import os\n",
    "import tensorflow as tf\n",
    "import numpy as np\n",
    "import sklearn\n",
    "import matplotlib.pyplot as plt\n",
    "from sklearn import preprocessing\n",
    "from sklearn.model_selection import train_test_split\n",
    "from sklearn.preprocessing import StandardScaler\n",
    "from tensorflow import keras"
   ]
  },
  {
   "cell_type": "code",
   "execution_count": 2,
   "id": "d7140829",
   "metadata": {},
   "outputs": [],
   "source": [
    "iris_data = pd.read_csv('noahiris.csv', header=0)"
   ]
  },
  {
   "cell_type": "code",
   "execution_count": 3,
   "id": "66ee6eb6",
   "metadata": {},
   "outputs": [],
   "source": [
    "#Encoding the species label for use as a feature\n",
    "label_encoder = preprocessing.LabelEncoder()\n",
    "iris_data['Species'] = label_encoder.fit_transform(iris_data['Species'])"
   ]
  },
  {
   "cell_type": "code",
   "execution_count": 4,
   "id": "7f87b157",
   "metadata": {},
   "outputs": [],
   "source": [
    "#Converting data to Numpy object and spliting into features and targets\n",
    "np_iris_data = iris_data.to_numpy()\n",
    "X = np_iris_data[:, 0:4]\n",
    "y = np_iris_data[:, 4]"
   ]
  },
  {
   "cell_type": "code",
   "execution_count": 5,
   "id": "a0162a51",
   "metadata": {},
   "outputs": [],
   "source": [
    "#Scaling the features\n",
    "scaler = preprocessing.StandardScaler()\n",
    "scaler.fit(X)\n",
    "X = scaler.transform(X)"
   ]
  },
  {
   "cell_type": "code",
   "execution_count": 6,
   "id": "3643a8ad",
   "metadata": {},
   "outputs": [],
   "source": [
    "#Scaling the target variable - using keras method to avoid later hitches\n",
    "y = tf.keras.utils.to_categorical(y, 3)"
   ]
  },
  {
   "cell_type": "code",
   "execution_count": 7,
   "id": "8cdce7d8",
   "metadata": {},
   "outputs": [],
   "source": [
    "# Splitting the data for training and testing\n",
    "X_train, X_test, y_train, y_test = train_test_split(X, y, test_size=0.1, random_state=42)"
   ]
  },
  {
   "cell_type": "code",
   "execution_count": 8,
   "id": "2f3b4121",
   "metadata": {},
   "outputs": [
    {
     "name": "stdout",
     "output_type": "stream",
     "text": [
      "(135, 4)\n",
      "(15, 4)\n",
      "(135, 3)\n",
      "(15, 3)\n"
     ]
    }
   ],
   "source": [
    "folds = [X_train, X_test, y_train, y_test]\n",
    "for fold in folds:\n",
    "    print(fold.shape)"
   ]
  },
  {
   "cell_type": "code",
   "execution_count": 9,
   "id": "69cbed43",
   "metadata": {},
   "outputs": [],
   "source": [
    "#Defining no. classes in the target variable\n",
    "NB_CLASSES=3"
   ]
  },
  {
   "cell_type": "code",
   "execution_count": 10,
   "id": "e6c22c9e",
   "metadata": {},
   "outputs": [],
   "source": [
    "#Architecture of the ANN\n",
    "flowerpower = tf.keras.models.Sequential()\n",
    "flowerpower.add(keras.layers.Dense(128, \n",
    "                                   input_shape=(4,), \n",
    "                                   name='Hidden_Layer_1', \n",
    "                                   activation='relu'))\n",
    "flowerpower.add(keras.layers.Dense(128, \n",
    "                                   name='Hidden_Layer_2', \n",
    "                                   activation='relu'))\n",
    "flowerpower.add(keras.layers.Dense(NB_CLASSES, \n",
    "                                   input_shape=(4,), \n",
    "                                   name='OUTPUT', \n",
    "                                   activation='softmax'))                "
   ]
  },
  {
   "cell_type": "code",
   "execution_count": 11,
   "id": "6daeca2e",
   "metadata": {},
   "outputs": [
    {
     "name": "stdout",
     "output_type": "stream",
     "text": [
      "Model: \"sequential\"\n",
      "_________________________________________________________________\n",
      " Layer (type)                Output Shape              Param #   \n",
      "=================================================================\n",
      " Hidden_Layer_1 (Dense)      (None, 128)               640       \n",
      "                                                                 \n",
      " Hidden_Layer_2 (Dense)      (None, 128)               16512     \n",
      "                                                                 \n",
      " OUTPUT (Dense)              (None, 3)                 387       \n",
      "                                                                 \n",
      "=================================================================\n",
      "Total params: 17,539\n",
      "Trainable params: 17,539\n",
      "Non-trainable params: 0\n",
      "_________________________________________________________________\n"
     ]
    }
   ],
   "source": [
    "flowerpower.compile(loss='categorical_crossentropy', metrics=['accuracy'])\n",
    "flowerpower.summary()"
   ]
  },
  {
   "cell_type": "code",
   "execution_count": 12,
   "id": "e4d025ba",
   "metadata": {},
   "outputs": [],
   "source": [
    "#Creating a list fo variables for references\n",
    "#VERBOSE=1\n",
    "#BATCH_SIZE=16\n",
    "#EPOCHS=10\n",
    "#VALIDATION_SPLIT=0.1"
   ]
  },
  {
   "cell_type": "code",
   "execution_count": 13,
   "id": "ef2d6b14",
   "metadata": {},
   "outputs": [
    {
     "name": "stdout",
     "output_type": "stream",
     "text": [
      "Epoch 1/10\n",
      "7/7 [==============================] - 2s 70ms/step - loss: 0.7855 - accuracy: 0.7130 - val_loss: 0.5830 - val_accuracy: 0.8889\n",
      "Epoch 2/10\n",
      "7/7 [==============================] - 0s 14ms/step - loss: 0.5168 - accuracy: 0.8056 - val_loss: 0.4568 - val_accuracy: 0.8889\n",
      "Epoch 3/10\n",
      "7/7 [==============================] - 0s 13ms/step - loss: 0.4174 - accuracy: 0.8241 - val_loss: 0.3840 - val_accuracy: 0.8889\n",
      "Epoch 4/10\n",
      "7/7 [==============================] - 0s 11ms/step - loss: 0.3602 - accuracy: 0.8241 - val_loss: 0.3321 - val_accuracy: 0.9259\n",
      "Epoch 5/10\n",
      "7/7 [==============================] - 0s 11ms/step - loss: 0.3259 - accuracy: 0.8333 - val_loss: 0.3084 - val_accuracy: 0.9259\n",
      "Epoch 6/10\n",
      "7/7 [==============================] - 0s 12ms/step - loss: 0.2919 - accuracy: 0.8519 - val_loss: 0.3000 - val_accuracy: 0.9630\n",
      "Epoch 7/10\n",
      "7/7 [==============================] - 0s 11ms/step - loss: 0.2724 - accuracy: 0.8704 - val_loss: 0.2787 - val_accuracy: 0.9630\n",
      "Epoch 8/10\n",
      "7/7 [==============================] - 0s 11ms/step - loss: 0.2479 - accuracy: 0.9074 - val_loss: 0.2396 - val_accuracy: 0.9630\n",
      "Epoch 9/10\n",
      "7/7 [==============================] - 0s 12ms/step - loss: 0.2304 - accuracy: 0.8981 - val_loss: 0.2344 - val_accuracy: 0.9630\n",
      "Epoch 10/10\n",
      "7/7 [==============================] - 0s 12ms/step - loss: 0.2142 - accuracy: 0.9167 - val_loss: 0.2210 - val_accuracy: 0.9630\n"
     ]
    },
    {
     "data": {
      "image/png": "[encoded data removed]",
      "text/plain": [
       "<Figure size 800x600 with 1 Axes>"
      ]
     },
     "metadata": {},
     "output_type": "display_data"
    }
   ],
   "source": [
    "#Training Flower Power and vizualizing it's learning progress\n",
    "fphistory=flowerpower.fit(X_train, y_train, \n",
    "                        batch_size=16,\n",
    "                        epochs=10,\n",
    "                        verbose=1,\n",
    "                        validation_split=0.2)\n",
    "#Cool idea for adding a plot to track training accuracy over each epoch\n",
    "z = pd.DataFrame(fphistory.history)[\"accuracy\"]\n",
    "z.plot(figsize=(8, 6))\n",
    "plt.title(\"Accuracy Improvements As I Learned\")\n",
    "plt.show()"
   ]
  },
  {
   "cell_type": "code",
   "execution_count": 14,
   "id": "93a257d4",
   "metadata": {},
   "outputs": [
    {
     "name": "stdout",
     "output_type": "stream",
     "text": [
      "1/1 [==============================] - 0s 55ms/step - loss: 0.1716 - accuracy: 0.9333\n"
     ]
    },
    {
     "data": {
      "text/plain": [
       "[0.1716427356004715, 0.9333333373069763]"
      ]
     },
     "execution_count": 14,
     "metadata": {},
     "output_type": "execute_result"
    }
   ],
   "source": [
    "#Running a quick evaluation\n",
    "flowerpower.evaluate(X_test, y_test)"
   ]
  },
  {
   "cell_type": "code",
   "execution_count": 15,
   "id": "672c2d7f",
   "metadata": {},
   "outputs": [
    {
     "name": "stderr",
     "output_type": "stream",
     "text": [
      "WARNING:absl:Function `_wrapped_model` contains input name(s) Hidden_Layer_1_input with unsupported characters which will be renamed to hidden_layer_1_input in the SavedModel.\n"
     ]
    },
    {
     "name": "stdout",
     "output_type": "stream",
     "text": [
      "INFO:tensorflow:Assets written to: Flower_Power/assets\n"
     ]
    },
    {
     "name": "stderr",
     "output_type": "stream",
     "text": [
      "INFO:tensorflow:Assets written to: Flower_Power/assets\n"
     ]
    }
   ],
   "source": [
    "#Saving flowerpower for later!\n",
    "flowerpower.save(\"Flower_Power\")"
   ]
  }
 ],
 "metadata": {
  "kernelspec": {
   "display_name": "Python [conda env:pyspark3_2anddataflowvy]",
   "language": "python",
   "name": "conda-env-pyspark3_2anddataflowvy-py"
  },
  "language_info": {
   "codemirror_mode": {
    "name": "ipython",
    "version": 3
   },
   "file_extension": ".py",
   "mimetype": "text/x-python",
   "name": "python",
   "nbconvert_exporter": "python",
   "pygments_lexer": "ipython3",
   "version": "3.8.12"
  }
 },
 "nbformat": 4,
 "nbformat_minor": 5
}
